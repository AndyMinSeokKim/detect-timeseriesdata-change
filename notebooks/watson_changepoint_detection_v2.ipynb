{
 "cells": [
  {
   "cell_type": "markdown",
   "metadata": {
    "collapsed": true
   },
   "source": [
    "# Change Point Detection in Time Series Sensor data"
   ]
  },
  {
   "cell_type": "markdown",
   "metadata": {},
   "source": [
    "## Install dependent libraries"
   ]
  },
  {
   "cell_type": "code",
   "execution_count": 39,
   "metadata": {},
   "outputs": [
    {
     "data": {
      "text/html": [
       "<table>\n",
       "<thead><tr><th></th><th scope=col>Package</th><th scope=col>Version</th></tr></thead>\n",
       "<tbody>\n",
       "\t<tr><th scope=row>bit64</th><td>bit64 </td><td>0.9-7 </td></tr>\n",
       "\t<tr><th scope=row>blob</th><td>blob  </td><td>1.1.0 </td></tr>\n",
       "\t<tr><th scope=row>chron</th><td>chron </td><td>2.3-50</td></tr>\n",
       "</tbody>\n",
       "</table>\n"
      ],
      "text/latex": [
       "\\begin{tabular}{r|ll}\n",
       "  & Package & Version\\\\\n",
       "\\hline\n",
       "\tbit64 & bit64  & 0.9-7 \\\\\n",
       "\tblob & blob   & 1.1.0 \\\\\n",
       "\tchron & chron  & 2.3-50\\\\\n",
       "\\end{tabular}\n"
      ],
      "text/plain": [
       "      Package Version\n",
       "bit64 bit64   0.9-7  \n",
       "blob  blob    1.1.0  \n",
       "chron chron   2.3-50 "
      ]
     },
     "metadata": {},
     "output_type": "display_data"
    }
   ],
   "source": [
    "# Clear all objects from memory\n",
    " rm(list=ls())\n",
    "\n",
    "# Check for installed libraries\n",
    " inspkgs = as.data.frame(installed.packages()[,c(1,3:4)])\n",
    " inspkgs = inspkgs[is.na(inspkgs$Priority),1:2,drop=FALSE]\n",
    " inspkgs[1:3,] # Displying only 3 sample packages\n",
    "\n",
    "\n",
    "# Run the below commands for libraries installation only \n",
    "#    if they are not istalled already as indicated by the above command\n",
    "#    Uncomment and run the installation commands below\n",
    "\n",
    "# install.packages(\"sqldf\")\n",
    "# install.packages(\"ggplot2\")\n"
   ]
  },
  {
   "cell_type": "markdown",
   "metadata": {},
   "source": [
    "## Load dependent libraries"
   ]
  },
  {
   "cell_type": "code",
   "execution_count": 9,
   "metadata": {
    "collapsed": true
   },
   "outputs": [],
   "source": [
    "library(sqldf)\n",
    "library(httr)\n",
    "library(RCurl)\n",
    "library(bitops)\n"
   ]
  },
  {
   "cell_type": "markdown",
   "metadata": {},
   "source": [
    "## Configure parameters required for Change point detection"
   ]
  },
  {
   "cell_type": "code",
   "execution_count": 10,
   "metadata": {
    "collapsed": true
   },
   "outputs": [],
   "source": [
    "# Sapecify file names for sample text and configuration files\n",
    "sampleDataFileName = \"sample_sensordata2016.csv\"\n",
    "\n",
    "# Configure Column names in .csv data\n",
    "v_coltimestamp = \"TimeStamp\"      # Name of the column which holds the Time stamp of data \n",
    "                                              # recorded by Sensor\n",
    "v_colsensorid = \"SensorID\"        # Name of the column which holds the Sensor identification\n",
    "v_colsensorvalue = \"SensorValue\"  # Name of the column that stores the values measured by sensor\n",
    "\n",
    "# Set data filter conditions\n",
    "v_sensorid = \"3B1\"\n",
    "v_datatimeformat = \"%d-%m-%Y %H:%M:%S\"#Time format of the data in the data frame\n",
    "v_intimezone=\"GMT\"                    #Time zone for the Time stamps\n",
    "v_rangetimeformat = \"%Y%m%d %H:%M:%S\" #Time format which is used for specifying the \n",
    "                                          # time ranges in the below paraneters\n",
    "v_Pfrom = \"20160324 00:00:00\"      #Start Time for first series Time range\n",
    "v_Pto = \"20160325 00:00:00\"        #End Time for first series Time range\n",
    "v_Cfrom = \"20160325 00:00:00\"      #Start Time for second series Time range\n",
    "v_Cto =\"20160326 00:00:00\"         #End Time for second series Time range\n",
    "\n",
    "# Set the threshold percentage of change if detected\n",
    "v_thresholdpercent = 25"
   ]
  },
  {
   "cell_type": "markdown",
   "metadata": {},
   "source": [
    "## Insert credentials for reading the data from csv data store in DSX"
   ]
  },
  {
   "cell_type": "code",
   "execution_count": 11,
   "metadata": {
    "collapsed": true
   },
   "outputs": [],
   "source": [
    "# @hidden_cell\n",
    "# This function accesses a file in your Object Storage. The definition contains your credentials.\n",
    "# You might want to remove those credentials before you share your notebook.\n",
    "getObjectStorageFileWithCredentials_273b1c76068e4fe4b6cb7633e12004f3 <- function(container, filename) {\n",
    "    # This functions returns a textConnection object for a file\n",
    "    # from Bluemix Object Storage.\n",
    "\n",
    "    if(!require(httr)) install.packages('httr')\n",
    "    if(!require(RCurl)) install.packages('RCurl')\n",
    "    library(httr, RCurl)\n",
    "    auth_url <- paste(\"https://identity.open.softlayer.com\",'/v3/auth/tokens', sep= '')\n",
    "    auth_args <- paste('{\"auth\": {\"identity\": {\"password\": {\"user\": \n",
    "                      {\"domain\": {\"id\": ', \"1301cc61df814635b2dd7c9fa40e6e2a\",'},\n",
    "                       \"password\": ',\"mHk4F6cpWl5R?*jZ\",',\n",
    "                       \"name\": ', \"member_03c4778cda0f6111933c34cba4d34b7a50f6eabb\",'}},\n",
    "                       \"methods\": [\"password\"]}}}', sep='\"')\n",
    "    auth_response <- httr::POST(url = auth_url, body = auth_args)\n",
    "    x_subject_token <-  headers(auth_response)[['x-subject-token']]\n",
    "    auth_body <-  content(auth_response)\n",
    "    access_url <-  unlist(lapply(auth_body[['token']][['catalog']], function(catalog){\n",
    "        if((catalog[['type']] == 'object-store')){\n",
    "            lapply(catalog[['endpoints']], function(endpoints){\n",
    "                if(endpoints[['interface']] == 'public' && endpoints[['region_id']] == 'dallas') {\n",
    "                    paste(endpoints[['url']], container, filename, sep='/')}\n",
    "            })\n",
    "        }\n",
    "    }))\n",
    "    data <- content(httr::GET(url = access_url, add_headers (\"Content-Type\" = \"application/json\", \n",
    "                                                             \"X-Auth-Token\" = x_subject_token)), as=\"text\")\n",
    "    textConnection(data)\n",
    "}\n"
   ]
  },
  {
   "cell_type": "markdown",
   "metadata": {
    "collapsed": true
   },
   "source": [
    "# Function to translate from one datetime format to another datetime format\n",
    "\n",
    "Returns character strings in the converted format NOT in posix or datetime format <br/>\n",
    "DateTime passed in also should be in character string format"
   ]
  },
  {
   "cell_type": "code",
   "execution_count": 12,
   "metadata": {
    "collapsed": true
   },
   "outputs": [],
   "source": [
    "dtformatconvert <- function(indatetimes, fromdatetimeformat=\"%Y-%m-%d %H:%M:%S %p\", \n",
    "                            todatetimeformat=\"%d-%m-%Y %H:%M:%S\",\n",
    "                            fromtz=\"GMT\", totz=\"\", usetz=FALSE)\n",
    "    {\n",
    "        return(strftime(as.POSIXct(indatetimes, format=fromdatetimeformat, tz=fromtz, usetz=FALSE), \n",
    "                            format=todatetimeformat, tz=totz, usetz=FALSE))\n",
    "    }\n"
   ]
  },
  {
   "cell_type": "markdown",
   "metadata": {
    "collapsed": true
   },
   "source": [
    "# Call function to read data for specific sensor\n",
    "Copy the code snippet that resembles  <br/>\n",
    "        [getObjectStorageFileWithCredentials_273b1c76068e4fe4b6cb7633e12004f3] <br/> \n",
    "        from your own Insert credentials step section and replace below before reading the data <br/>\n",
    "Also replace the .csv file name in the call to the above function for your environment"
   ]
  },
  {
   "cell_type": "code",
   "execution_count": 14,
   "metadata": {},
   "outputs": [
    {
     "data": {
      "text/html": [
       "<table>\n",
       "<thead><tr><th scope=col>SensorID</th><th scope=col>TimeStamp</th><th scope=col>SensorValue</th><th scope=col>SensorUnits</th></tr></thead>\n",
       "<tbody>\n",
       "\t<tr><td>3B1                </td><td>20-03-2016 17:40:00</td><td>10.455             </td><td>FAHRENHEIT         </td></tr>\n",
       "\t<tr><td>3B1                </td><td>20-03-2016 17:50:00</td><td> 9.840             </td><td>FAHRENHEIT         </td></tr>\n",
       "\t<tr><td>3B1                </td><td>20-03-2016 18:00:00</td><td> 9.840             </td><td>FAHRENHEIT         </td></tr>\n",
       "\t<tr><td>3B1                </td><td>20-03-2016 18:10:00</td><td>24.600             </td><td>FAHRENHEIT         </td></tr>\n",
       "\t<tr><td>3B1                </td><td>20-03-2016 18:20:00</td><td>12.915             </td><td>FAHRENHEIT         </td></tr>\n",
       "\t<tr><td>3B1                </td><td>20-03-2016 18:30:00</td><td>10.455             </td><td>FAHRENHEIT         </td></tr>\n",
       "</tbody>\n",
       "</table>\n"
      ],
      "text/latex": [
       "\\begin{tabular}{r|llll}\n",
       " SensorID & TimeStamp & SensorValue & SensorUnits\\\\\n",
       "\\hline\n",
       "\t 3B1                 & 20-03-2016 17:40:00 & 10.455              & FAHRENHEIT         \\\\\n",
       "\t 3B1                 & 20-03-2016 17:50:00 &  9.840              & FAHRENHEIT         \\\\\n",
       "\t 3B1                 & 20-03-2016 18:00:00 &  9.840              & FAHRENHEIT         \\\\\n",
       "\t 3B1                 & 20-03-2016 18:10:00 & 24.600              & FAHRENHEIT         \\\\\n",
       "\t 3B1                 & 20-03-2016 18:20:00 & 12.915              & FAHRENHEIT         \\\\\n",
       "\t 3B1                 & 20-03-2016 18:30:00 & 10.455              & FAHRENHEIT         \\\\\n",
       "\\end{tabular}\n"
      ],
      "text/plain": [
       "  SensorID TimeStamp           SensorValue SensorUnits\n",
       "1 3B1      20-03-2016 17:40:00 10.455      FAHRENHEIT \n",
       "2 3B1      20-03-2016 17:50:00  9.840      FAHRENHEIT \n",
       "3 3B1      20-03-2016 18:00:00  9.840      FAHRENHEIT \n",
       "4 3B1      20-03-2016 18:10:00 24.600      FAHRENHEIT \n",
       "5 3B1      20-03-2016 18:20:00 12.915      FAHRENHEIT \n",
       "6 3B1      20-03-2016 18:30:00 10.455      FAHRENHEIT "
      ]
     },
     "metadata": {},
     "output_type": "display_data"
    }
   ],
   "source": [
    "alarmdf <-  read.csv(file = \n",
    "             getObjectStorageFileWithCredentials_273b1c76068e4fe4b6cb7633e12004f3(\"ChangePointDetection\", \n",
    "                                                                                  sampleDataFileName));\n",
    "\n",
    "head(alarmdf)\n"
   ]
  },
  {
   "cell_type": "markdown",
   "metadata": {},
   "source": [
    "### Filter data for 1 sensor for analysis <br/>\n",
    "### Standardise the Dataset with standard column names <Timestamp, SensorID, SensorValue> <br/>\n",
    "\n",
    "You can investigate the set of unique sensor ids in the data using the below command <br/>\n",
    "[unique(alarmdf$SensorID)]"
   ]
  },
  {
   "cell_type": "code",
   "execution_count": 15,
   "metadata": {},
   "outputs": [
    {
     "data": {
      "text/html": [
       "<table>\n",
       "<thead><tr><th scope=col>TimeStamp</th><th scope=col>SensorID</th><th scope=col>SensorValue</th></tr></thead>\n",
       "<tbody>\n",
       "\t<tr><td>20-03-2016 17:40:00</td><td>3B1                </td><td>10.455             </td></tr>\n",
       "\t<tr><td>20-03-2016 17:50:00</td><td>3B1                </td><td> 9.840             </td></tr>\n",
       "\t<tr><td>20-03-2016 18:00:00</td><td>3B1                </td><td> 9.840             </td></tr>\n",
       "\t<tr><td>20-03-2016 18:10:00</td><td>3B1                </td><td>24.600             </td></tr>\n",
       "\t<tr><td>20-03-2016 18:20:00</td><td>3B1                </td><td>12.915             </td></tr>\n",
       "\t<tr><td>20-03-2016 18:30:00</td><td>3B1                </td><td>10.455             </td></tr>\n",
       "</tbody>\n",
       "</table>\n"
      ],
      "text/latex": [
       "\\begin{tabular}{r|lll}\n",
       " TimeStamp & SensorID & SensorValue\\\\\n",
       "\\hline\n",
       "\t 20-03-2016 17:40:00 & 3B1                 & 10.455             \\\\\n",
       "\t 20-03-2016 17:50:00 & 3B1                 &  9.840             \\\\\n",
       "\t 20-03-2016 18:00:00 & 3B1                 &  9.840             \\\\\n",
       "\t 20-03-2016 18:10:00 & 3B1                 & 24.600             \\\\\n",
       "\t 20-03-2016 18:20:00 & 3B1                 & 12.915             \\\\\n",
       "\t 20-03-2016 18:30:00 & 3B1                 & 10.455             \\\\\n",
       "\\end{tabular}\n"
      ],
      "text/plain": [
       "  TimeStamp           SensorID SensorValue\n",
       "1 20-03-2016 17:40:00 3B1      10.455     \n",
       "2 20-03-2016 17:50:00 3B1       9.840     \n",
       "3 20-03-2016 18:00:00 3B1       9.840     \n",
       "4 20-03-2016 18:10:00 3B1      24.600     \n",
       "5 20-03-2016 18:20:00 3B1      12.915     \n",
       "6 20-03-2016 18:30:00 3B1      10.455     "
      ]
     },
     "metadata": {},
     "output_type": "display_data"
    }
   ],
   "source": [
    "alarmdf <- f_readsensordata(sensordf = alarmdf, \n",
    "                            sensorid = v_sensorid, \n",
    "                            coltimestamp = v_coltimestamp, colsensorid=v_colsensorid, \n",
    "                            colsensorval=v_colsensorvalue)\n",
    "\n",
    "head(alarmdf)"
   ]
  },
  {
   "cell_type": "markdown",
   "metadata": {},
   "source": [
    "### Sort the data by Time stamp (optional if specific time series based functions not applied)"
   ]
  },
  {
   "cell_type": "code",
   "execution_count": 18,
   "metadata": {},
   "outputs": [
    {
     "data": {
      "text/html": [
       "<table>\n",
       "<thead><tr><th scope=col>TimeStamp</th><th scope=col>SensorID</th><th scope=col>SensorValue</th></tr></thead>\n",
       "<tbody>\n",
       "\t<tr><td>20-03-2016 17:40:00</td><td>3B1                </td><td>10.455             </td></tr>\n",
       "\t<tr><td>20-03-2016 17:50:00</td><td>3B1                </td><td> 9.840             </td></tr>\n",
       "\t<tr><td>20-03-2016 18:00:00</td><td>3B1                </td><td> 9.840             </td></tr>\n",
       "\t<tr><td>20-03-2016 18:10:00</td><td>3B1                </td><td>24.600             </td></tr>\n",
       "\t<tr><td>20-03-2016 18:20:00</td><td>3B1                </td><td>12.915             </td></tr>\n",
       "\t<tr><td>20-03-2016 18:30:00</td><td>3B1                </td><td>10.455             </td></tr>\n",
       "</tbody>\n",
       "</table>\n"
      ],
      "text/latex": [
       "\\begin{tabular}{r|lll}\n",
       " TimeStamp & SensorID & SensorValue\\\\\n",
       "\\hline\n",
       "\t 20-03-2016 17:40:00 & 3B1                 & 10.455             \\\\\n",
       "\t 20-03-2016 17:50:00 & 3B1                 &  9.840             \\\\\n",
       "\t 20-03-2016 18:00:00 & 3B1                 &  9.840             \\\\\n",
       "\t 20-03-2016 18:10:00 & 3B1                 & 24.600             \\\\\n",
       "\t 20-03-2016 18:20:00 & 3B1                 & 12.915             \\\\\n",
       "\t 20-03-2016 18:30:00 & 3B1                 & 10.455             \\\\\n",
       "\\end{tabular}\n"
      ],
      "text/plain": [
       "  TimeStamp           SensorID SensorValue\n",
       "1 20-03-2016 17:40:00 3B1      10.455     \n",
       "2 20-03-2016 17:50:00 3B1       9.840     \n",
       "3 20-03-2016 18:00:00 3B1       9.840     \n",
       "4 20-03-2016 18:10:00 3B1      24.600     \n",
       "5 20-03-2016 18:20:00 3B1      12.915     \n",
       "6 20-03-2016 18:30:00 3B1      10.455     "
      ]
     },
     "metadata": {},
     "output_type": "display_data"
    }
   ],
   "source": [
    "alarmdf <- alarmdf[with(alarmdf, order(SensorID, \n",
    "                                       as.POSIXct(TimeStamp,format=v_datatimeformat, tz=v_intimezone))), ];\n",
    "\n",
    "head(alarmdf)\n"
   ]
  },
  {
   "cell_type": "markdown",
   "metadata": {},
   "source": [
    "## Function to split data into 2 datasets: Previous, Current"
   ]
  },
  {
   "cell_type": "markdown",
   "metadata": {},
   "source": [
    "IN: Standard Data Frame, SensorID, <br/>\n",
    "    Previous From Time stamp, Previous To Time stamp, <br/>\n",
    "    Current From Time Stamp, Current To Time Stamp <br/>\n",
    "OUT: Data series <br/>\n",
    "    series 1 (SensorID, TimeStamp, SensorValue), <br/>\n",
    "    series 2 (SensorID, TimeStamp, SensorValue) <br/>"
   ]
  },
  {
   "cell_type": "code",
   "execution_count": 19,
   "metadata": {
    "collapsed": true
   },
   "outputs": [],
   "source": [
    "f_splitdataseries <- function(SensorID, Intimeformat, Datatimeformat, PFrom, PTo, CFrom, CTo)\n",
    "{\n",
    "  PFromPOSIX = as.POSIXct(PFrom, format=Intimeformat, tz=\"GMT\", usetz=FALSE);\n",
    "  PToPOSIX = as.POSIXct(PTo, format=Intimeformat, tz=\"GMT\", usetz=FALSE);\n",
    "  CFromPOSIX = as.POSIXct(CFrom, format=Intimeformat, tz=\"GMT\", usetz=FALSE);\n",
    "  CToPOSIX = as.POSIXct(CTo, format=Intimeformat, tz=\"GMT\", usetz=FALSE);\n",
    "  \n",
    "  alarmdf$TimeStampPOSIX <- as.POSIXct(alarmdf$TimeStamp, format=Datatimeformat, tz=\"GMT\", usetz=FALSE);\n",
    "  \n",
    "  series1 = alarmdf[which(alarmdf$SensorID ==SensorID & \n",
    "                          alarmdf$TimeStampPOSIX >= PFromPOSIX & alarmdf$TimeStampPOSIX < PToPOSIX),];\n",
    "  series2 = alarmdf[which(alarmdf$SensorID ==SensorID & \n",
    "                          alarmdf$TimeStampPOSIX >= CFromPOSIX & alarmdf$TimeStampPOSIX < CToPOSIX),];\n",
    "  return(list(series1, series2));\n",
    "}\n"
   ]
  },
  {
   "cell_type": "markdown",
   "metadata": {},
   "source": [
    "## Split data into 2 divergent sets for detecting changes"
   ]
  },
  {
   "cell_type": "markdown",
   "metadata": {},
   "source": [
    "### Get the 2 Data series to compare"
   ]
  },
  {
   "cell_type": "code",
   "execution_count": 20,
   "metadata": {},
   "outputs": [
    {
     "data": {
      "text/html": [
       "<table>\n",
       "<thead><tr><th></th><th scope=col>TimeStamp</th><th scope=col>SensorID</th><th scope=col>SensorValue</th><th scope=col>TimeStampPOSIX</th></tr></thead>\n",
       "<tbody>\n",
       "\t<tr><th scope=row>471</th><td>24-03-2016 00:00:00</td><td>3B1                </td><td>9.225              </td><td>2016-03-24 00:00:00</td></tr>\n",
       "\t<tr><th scope=row>472</th><td>24-03-2016 00:10:00</td><td>3B1                </td><td>8.610              </td><td>2016-03-24 00:10:00</td></tr>\n",
       "\t<tr><th scope=row>473</th><td>24-03-2016 00:20:00</td><td>3B1                </td><td>8.610              </td><td>2016-03-24 00:20:00</td></tr>\n",
       "\t<tr><th scope=row>474</th><td>24-03-2016 00:30:00</td><td>3B1                </td><td>8.610              </td><td>2016-03-24 00:30:00</td></tr>\n",
       "\t<tr><th scope=row>475</th><td>24-03-2016 00:40:00</td><td>3B1                </td><td>8.610              </td><td>2016-03-24 00:40:00</td></tr>\n",
       "\t<tr><th scope=row>476</th><td>24-03-2016 00:50:00</td><td>3B1                </td><td>8.610              </td><td>2016-03-24 00:50:00</td></tr>\n",
       "</tbody>\n",
       "</table>\n"
      ],
      "text/latex": [
       "\\begin{tabular}{r|llll}\n",
       "  & TimeStamp & SensorID & SensorValue & TimeStampPOSIX\\\\\n",
       "\\hline\n",
       "\t471 & 24-03-2016 00:00:00 & 3B1                 & 9.225               & 2016-03-24 00:00:00\\\\\n",
       "\t472 & 24-03-2016 00:10:00 & 3B1                 & 8.610               & 2016-03-24 00:10:00\\\\\n",
       "\t473 & 24-03-2016 00:20:00 & 3B1                 & 8.610               & 2016-03-24 00:20:00\\\\\n",
       "\t474 & 24-03-2016 00:30:00 & 3B1                 & 8.610               & 2016-03-24 00:30:00\\\\\n",
       "\t475 & 24-03-2016 00:40:00 & 3B1                 & 8.610               & 2016-03-24 00:40:00\\\\\n",
       "\t476 & 24-03-2016 00:50:00 & 3B1                 & 8.610               & 2016-03-24 00:50:00\\\\\n",
       "\\end{tabular}\n"
      ],
      "text/plain": [
       "    TimeStamp           SensorID SensorValue TimeStampPOSIX     \n",
       "471 24-03-2016 00:00:00 3B1      9.225       2016-03-24 00:00:00\n",
       "472 24-03-2016 00:10:00 3B1      8.610       2016-03-24 00:10:00\n",
       "473 24-03-2016 00:20:00 3B1      8.610       2016-03-24 00:20:00\n",
       "474 24-03-2016 00:30:00 3B1      8.610       2016-03-24 00:30:00\n",
       "475 24-03-2016 00:40:00 3B1      8.610       2016-03-24 00:40:00\n",
       "476 24-03-2016 00:50:00 3B1      8.610       2016-03-24 00:50:00"
      ]
     },
     "metadata": {},
     "output_type": "display_data"
    },
    {
     "data": {
      "text/html": [
       "<table>\n",
       "<thead><tr><th></th><th scope=col>TimeStamp</th><th scope=col>SensorID</th><th scope=col>SensorValue</th><th scope=col>TimeStampPOSIX</th></tr></thead>\n",
       "<tbody>\n",
       "\t<tr><th scope=row>615</th><td>25-03-2016 00:00:00</td><td>3B1                </td><td>18.450             </td><td>2016-03-25 00:00:00</td></tr>\n",
       "\t<tr><th scope=row>616</th><td>25-03-2016 00:10:00</td><td>3B1                </td><td>13.530             </td><td>2016-03-25 00:10:00</td></tr>\n",
       "\t<tr><th scope=row>617</th><td>25-03-2016 00:20:00</td><td>3B1                </td><td>12.300             </td><td>2016-03-25 00:20:00</td></tr>\n",
       "\t<tr><th scope=row>618</th><td>25-03-2016 00:30:00</td><td>3B1                </td><td>11.685             </td><td>2016-03-25 00:30:00</td></tr>\n",
       "\t<tr><th scope=row>619</th><td>25-03-2016 00:40:00</td><td>3B1                </td><td>11.685             </td><td>2016-03-25 00:40:00</td></tr>\n",
       "\t<tr><th scope=row>620</th><td>25-03-2016 00:50:00</td><td>3B1                </td><td>16.605             </td><td>2016-03-25 00:50:00</td></tr>\n",
       "</tbody>\n",
       "</table>\n"
      ],
      "text/latex": [
       "\\begin{tabular}{r|llll}\n",
       "  & TimeStamp & SensorID & SensorValue & TimeStampPOSIX\\\\\n",
       "\\hline\n",
       "\t615 & 25-03-2016 00:00:00 & 3B1                 & 18.450              & 2016-03-25 00:00:00\\\\\n",
       "\t616 & 25-03-2016 00:10:00 & 3B1                 & 13.530              & 2016-03-25 00:10:00\\\\\n",
       "\t617 & 25-03-2016 00:20:00 & 3B1                 & 12.300              & 2016-03-25 00:20:00\\\\\n",
       "\t618 & 25-03-2016 00:30:00 & 3B1                 & 11.685              & 2016-03-25 00:30:00\\\\\n",
       "\t619 & 25-03-2016 00:40:00 & 3B1                 & 11.685              & 2016-03-25 00:40:00\\\\\n",
       "\t620 & 25-03-2016 00:50:00 & 3B1                 & 16.605              & 2016-03-25 00:50:00\\\\\n",
       "\\end{tabular}\n"
      ],
      "text/plain": [
       "    TimeStamp           SensorID SensorValue TimeStampPOSIX     \n",
       "615 25-03-2016 00:00:00 3B1      18.450      2016-03-25 00:00:00\n",
       "616 25-03-2016 00:10:00 3B1      13.530      2016-03-25 00:10:00\n",
       "617 25-03-2016 00:20:00 3B1      12.300      2016-03-25 00:20:00\n",
       "618 25-03-2016 00:30:00 3B1      11.685      2016-03-25 00:30:00\n",
       "619 25-03-2016 00:40:00 3B1      11.685      2016-03-25 00:40:00\n",
       "620 25-03-2016 00:50:00 3B1      16.605      2016-03-25 00:50:00"
      ]
     },
     "metadata": {},
     "output_type": "display_data"
    }
   ],
   "source": [
    "# Get the 2 Data series to compare (sample values shown for help)\n",
    "# s = f_splitdataseries (SensorID=\"3B1\",\n",
    "#                       Intimeformat=\"%Y%m%d %H:%M:%S\", Datatimeformat=\"%d-%m-%Y %H:%M:%S\",\n",
    "#                       PFrom=\"20160324 00:00:00\", PTo=\"20160325 00:00:00\",\n",
    "#                       CFrom=\"20160325 00:00:00\", CTo=\"20160326 00:00:00\")\n",
    "\n",
    "s = f_splitdataseries (SensorID=v_sensorid,\n",
    "                       Intimeformat=v_rangetimeformat, Datatimeformat=v_datatimeformat,\n",
    "                       PFrom=v_Pfrom, PTo=v_Pto,\n",
    "                       CFrom=v_Cfrom, CTo=v_Cto)\n",
    "\n",
    "\n",
    "# Unpack the 2 list of data frames\n",
    "series1 <- s[[1]]\n",
    "series2 <- s[[2]]\n",
    "\n",
    "head(series1)\n",
    "head(series2)"
   ]
  },
  {
   "cell_type": "markdown",
   "metadata": {},
   "source": [
    "### Function to plot the line graphs for both the series <br/>\n",
    "IN parameters: (x,y values for both the Time series in sorted order) x1, y1, x2, y2\n"
   ]
  },
  {
   "cell_type": "code",
   "execution_count": 21,
   "metadata": {
    "collapsed": true
   },
   "outputs": [],
   "source": [
    "f_plot2lines <- function(x1, y1, x2, y2)\n",
    "{\n",
    "  # Draw Line plot\n",
    "  # dev.new()\n",
    "  plot(y1,type=\"l\",col=\"green\",xlab=\" \", ylab=\" \",pch=21,xaxt=\"n\",yaxt=\"n\")\n",
    "  par(new=T)\n",
    "  plot(y2,type=\"l\",col=\"red\",xlab=\"Time\", ylab=\"Sensor Values\",pch=21,xaxt=\"n\",yaxt=\"n\")\n",
    "  axis(2,las=3,cex.axis=0.8)\n",
    "  axis(1,at=c(1:length(x1)),c(x1),las=2,cex.axis=0.4)\n",
    "  title(\"Sensor readings by Time overlay\")\n",
    "  par(new=F)\n",
    "}\n"
   ]
  },
  {
   "cell_type": "code",
   "execution_count": 22,
   "metadata": {},
   "outputs": [
    {
     "data": {
      "image/png": "[encoded data removed]"
     },
     "metadata": {},
     "output_type": "display_data"
    }
   ],
   "source": [
    "# Line plot of the 2 Data series\n",
    "f_plot2lines(x1 <- series1$TimeStamp, y1 <- series1$SensorValue,\n",
    "             x2 <- series2$TimeStamp, y2 <- series2$SensorValue)\n"
   ]
  },
  {
   "cell_type": "markdown",
   "metadata": {},
   "source": [
    "### Function to plot the box plots for both the distributions <br/>\n",
    "Time series order does not matter for this <br/>\n",
    "    IN parameters: (Sensorvalues-series 1, Sensorvalues-series 2)"
   ]
  },
  {
   "cell_type": "code",
   "execution_count": 23,
   "metadata": {
    "collapsed": true
   },
   "outputs": [],
   "source": [
    "f_plot2boxes <- function(s1sensorvalue, s2sensorvalue)\n",
    "{\n",
    "  data_list = NULL\n",
    "  col_list = c(\"green\", \"blue\")\n",
    "  names_list = c(\"Previous\", \"Current\")\n",
    "  \n",
    "  data_list = list()\n",
    "  data_list[[1]] = s1sensorvalue\n",
    "  data_list[[2]] = s2sensorvalue\n",
    "  \n",
    "  # dev.new() # Works in PC only\n",
    "  boxstats <- boxplot.stats(data_list[[1]], coef=1.57, do.conf = TRUE, do.out = TRUE)\n",
    "  #par(new=T)\n",
    "  boxplot(data_list, las = 2, col = col_list, ylim=c(-2.0,70),\n",
    "          names= names_list,\n",
    "          mar = c(12, 5, 4, 2) + 0.1,\n",
    "          main=\"Change point detection\",\n",
    "          sub=paste(\"Spread of Sensor reading distributions\", \":\", sep=\"\"),\n",
    "          ylab=\"Sensor Readings\", \n",
    "          coef=1.57, do.conf = TRUE, do.out = TRUE)\n",
    "  abline(h=boxstats$stats, col=\"green\", las=2)\n",
    "}\n"
   ]
  },
  {
   "cell_type": "code",
   "execution_count": 24,
   "metadata": {},
   "outputs": [
    {
     "data": {
      "image/png": "[encoded data removed]"
     },
     "metadata": {},
     "output_type": "display_data"
    }
   ],
   "source": [
    "# Plot the 2 box plots for the distribution\n",
    "f_plot2boxes(s1sensorvalue = series1$SensorValue,\n",
    "             s2sensorvalue = series2$SensorValue)\n"
   ]
  },
  {
   "cell_type": "markdown",
   "metadata": {},
   "source": [
    "## Function to calculate the stats for both the series <br/>\n",
    "Avg, Median, p1sd, p2sd, p3sd, n1sd, n2sd, n3sd, q0, q1, q2, q3, q4, f1range, <br/>\n",
    "     iqrange, f2range, sku, kurt, outliers\n"
   ]
  },
  {
   "cell_type": "code",
   "execution_count": 25,
   "metadata": {
    "collapsed": true
   },
   "outputs": [],
   "source": [
    "f_seriesstats <- function(series)\n",
    "{\n",
    "  boxstats <- boxplot.stats(series, coef=1.57, do.conf = TRUE, do.out = TRUE)\n",
    "  smin <- min(series)\n",
    "  smax <- max(series)\n",
    "  smean <- mean(series)\n",
    "  #Spread measures\n",
    "  sq0 <- boxstats$stats[1]\n",
    "  sq1 <- boxstats$stats[2]\n",
    "  sq2 <- boxstats$stats[3]\n",
    "  sq3 <- boxstats$stats[4]\n",
    "  sq4 <- boxstats$stats[5]\n",
    "  siqr <- (sq3 - sq1)\n",
    "  # Normal distribution\n",
    "  s1sd <- sd(series)\n",
    "  s1sdp <- smean + s1sd\n",
    "  s1sdn <- smean - s1sd\n",
    "  s2sdp <- smean + (2*s1sd)\n",
    "  s2sdn <- smean - (2*s1sd)\n",
    "  s3sdp <- smean + (3*s1sd)\n",
    "  s3sdn <- smean - (3*s1sd)\n",
    "  # Outlier counts @ 2sd\n",
    "  s2sdout <- sum(series > s2sdp) + sum(series < s2sdn)\n",
    "  # return(list(smin, smax, smean, sq0, sq1, sq2, sq3, sq4, siqr, s1sd, s1sdp, s1sdn, s2sdp, s2sdn, s3sdp, s3sdn))\n",
    "  return(list(smin=smin, smax=smax, smean=smean,\n",
    "              sq0=sq0, sq1=sq1, sq2=sq2, sq3=sq3, sq4=sq4, siqr=siqr,\n",
    "              s1sd=s1sd, s1sdp=s1sdp, s1sdn=s1sdn,\n",
    "              s2sdp=s2sdp, s2sdn=s2sdn, s3sdp=s3sdp, s3sdn=s3sdn))\n",
    "}\n"
   ]
  },
  {
   "cell_type": "markdown",
   "metadata": {},
   "source": [
    "## Compute the statistics for both series and check results"
   ]
  },
  {
   "cell_type": "code",
   "execution_count": 26,
   "metadata": {
    "collapsed": true
   },
   "outputs": [],
   "source": [
    "# Compute the statistics for both series and check results\n",
    "s1stats <- f_seriesstats(series1$SensorValue)\n",
    "s2stats <- f_seriesstats(series2$SensorValue)\n"
   ]
  },
  {
   "cell_type": "markdown",
   "metadata": {},
   "source": [
    "## Functions to calculate change point deviatrions"
   ]
  },
  {
   "cell_type": "code",
   "execution_count": 27,
   "metadata": {
    "collapsed": true
   },
   "outputs": [],
   "source": [
    "## Function to calculate change point deviatrion percentages\n",
    "f_changepercent <- function(val1, val2)\n",
    "{\n",
    "  return(((val2-val1)/val1)*100)\n",
    "}\n",
    "\n",
    "# Calculate percentage deviation for individual stats\n",
    "f_serieschangepercent <- function(series1stats, series2stats)\n",
    "{\n",
    "  n <- length(series1stats)\n",
    "  cols=names(series2stats)\n",
    "  cpdf <- data.frame(statname=character(), series1val = numeric(), \n",
    "                     series2val=numeric(), changeper=numeric());\n",
    "  for (i in 1:length(series2stats))\n",
    "  {\n",
    "    newrow = data.frame(statname=cols[i], \n",
    "                        series1val=series1stats[[i]], \n",
    "                        series2val=series2stats[[i]], \n",
    "                        changeper=f_changepercent(series1stats[[i]], series2stats[[i]]))\n",
    "    cpdf <- rbind(cpdf, newrow)\n",
    "  }\n",
    "  return(cpdf)\n",
    "}\n",
    "\n",
    "# Calculate overall percentage deviation and detect change point\n",
    "f_detectchangepoint <- function(dfcp, threshold)\n",
    "{\n",
    "  # Overall percentage deviation\n",
    "  newrow = data.frame(statname='overall',\n",
    "                      series1val=NA,\n",
    "                      series2val=NA,\n",
    "                      changeper=mean(abs(dfcp$changeper)))\n",
    "  dfcp <- rbind(dfcp, newrow)\n",
    "  # Overall change point percentage\n",
    "  changepointper <- dfcp[which(dfcp$statname==\"overall\"),c(\"changeper\")]\n",
    "  # Mark change point at threshold %\n",
    "  if(changepointper > threshold)\n",
    "    {return(paste(\"Change Point DETECTED exceeding threshold: \",threshold,\"% \", sep=\"\"))}\n",
    "  else\n",
    "    {return(paste(\"Change Point NOT DETECTED at threshold: \",threshold,\"% \", sep=\"\"))}\n",
    "}\n"
   ]
  },
  {
   "cell_type": "markdown",
   "metadata": {},
   "source": [
    "## Overall change percentage and individual key statistics\n"
   ]
  },
  {
   "cell_type": "code",
   "execution_count": 28,
   "metadata": {},
   "outputs": [
    {
     "name": "stdout",
     "output_type": "stream",
     "text": [
      "   statname series1val series2val changeper\n",
      "1      smin   8.610000   9.225000  7.142857\n",
      "2      smax  52.890000  55.965000  5.813953\n",
      "3     smean  13.073021  18.168125 38.974191\n",
      "4       sq0   8.610000   9.225000  7.142857\n",
      "5       sq1   8.610000  11.685000 35.714286\n",
      "6       sq2   9.840000  13.530000 37.500000\n",
      "7       sq3  12.915000  18.142500 40.476190\n",
      "8       sq4  19.065000  27.060000 41.935484\n",
      "9      siqr   4.305000   6.457500 50.000000\n",
      "10     s1sd   8.861824  11.444024 29.138478\n",
      "11    s1sdp  21.934845  29.612149 35.000497\n",
      "12    s1sdn   4.211197   6.724101 59.671956\n",
      "13    s2sdp  30.796669  41.056174 33.313685\n",
      "14    s2sdn  -4.650627  -4.719924  1.490057\n",
      "15    s3sdp  39.658493  52.500198 32.380721\n",
      "16    s3sdn -13.512451 -16.163948 19.622625\n"
     ]
    },
    {
     "data": {
      "text/html": [
       "'Change Point DETECTED exceeding threshold: 25% '"
      ],
      "text/latex": [
       "'Change Point DETECTED exceeding threshold: 25\\% '"
      ],
      "text/markdown": [
       "'Change Point DETECTED exceeding threshold: 25% '"
      ],
      "text/plain": [
       "[1] \"Change Point DETECTED exceeding threshold: 25% \""
      ]
     },
     "metadata": {},
     "output_type": "display_data"
    }
   ],
   "source": [
    "# Overall change percentage in key statistics\n",
    "dfallstats <- f_serieschangepercent(s1stats, s2stats)\n",
    "print(dfallstats)\n",
    "# Detect changepoint\n",
    "f_detectchangepoint(dfallstats, v_thresholdpercent)\n"
   ]
  }
 ],
 "metadata": {
  "kernelspec": {
   "display_name": "R with Spark 2.0",
   "language": "R",
   "name": "r-spark20"
  },
  "language_info": {
   "codemirror_mode": "r",
   "file_extension": ".r",
   "mimetype": "text/x-r-source",
   "name": "R",
   "pygments_lexer": "r",
   "version": "3.3.2"
  }
 },
 "nbformat": 4,
 "nbformat_minor": 1
}
